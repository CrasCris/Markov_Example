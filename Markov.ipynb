{
 "cells": [
  {
   "cell_type": "code",
   "execution_count": 1,
   "metadata": {},
   "outputs": [],
   "source": [
    "import numpy as np  \n"
   ]
  },
  {
   "cell_type": "code",
   "execution_count": 4,
   "metadata": {},
   "outputs": [
    {
     "name": "stdout",
     "output_type": "stream",
     "text": [
      "{0: 'Burger', 1: 'Pizza', 2: 'Hotdog'}\n",
      "[[0.2 0.6 0.2]\n",
      " [0.3 0.  0.7]\n",
      " [0.5 0.  0.5]]\n"
     ]
    }
   ],
   "source": [
    "state = {\n",
    "    0: \"Burger\",\n",
    "    1 : \"Pizza\",\n",
    "    2 : \"Hotdog\"\n",
    "}\n",
    "print(state)\n",
    "A = np.array([[0.2,0.6,0.2],[0.3,0.0,0.7],[0.5,0.0,0.5]])\n",
    "print(A)"
   ]
  },
  {
   "cell_type": "code",
   "execution_count": 5,
   "metadata": {},
   "outputs": [
    {
     "name": "stdout",
     "output_type": "stream",
     "text": [
      "Burger -->Hotdog --> Hotdog --> Burger --> Burger --> Pizza --> Hotdog --> Hotdog --> Hotdog --> Burger --> Pizza --> Hotdog --> Burger --> Burger --> Pizza --> stop\n"
     ]
    }
   ],
   "source": [
    "#Random walk on Markov Chain\n",
    "n=15\n",
    "start_state = 0\n",
    "print(state[start_state], \"-->\",end=\"\")\n",
    "prev_state = start_state\n",
    "\n",
    "while n-1:\n",
    "    curr_state = np.random.choice([0,1,2],p=A[prev_state])\n",
    "    print(state[curr_state],\"-->\",end=\" \")\n",
    "    prev_state = curr_state\n",
    "    n-=1\n",
    "print(\"stop\")"
   ]
  },
  {
   "cell_type": "code",
   "execution_count": 7,
   "metadata": {},
   "outputs": [
    {
     "name": "stdout",
     "output_type": "stream",
     "text": [
      "π = [0.352216 0.211546 0.436239]\n"
     ]
    }
   ],
   "source": [
    "#Approach 1: Monte Carlo\n",
    "steps = 10**6\n",
    "start_state = 0\n",
    "pi = np.array([0,0,0])\n",
    "pi[start_state]=1\n",
    "prev_state = start_state\n",
    "\n",
    "i=0\n",
    "while i<steps:\n",
    "    curr_state = np.random.choice([0,1,2],p=A[prev_state])\n",
    "    pi[curr_state]+=1\n",
    "    prev_state = curr_state\n",
    "    i+=1\n",
    "print(\"π =\",pi/steps)"
   ]
  },
  {
   "cell_type": "code",
   "execution_count": 8,
   "metadata": {},
   "outputs": [
    {
     "name": "stdout",
     "output_type": "stream",
     "text": [
      "A^n = \n",
      " [[0.35211268 0.21126761 0.43661972]\n",
      " [0.35211268 0.21126761 0.43661972]\n",
      " [0.35211268 0.21126761 0.43661972]] \n",
      "\n",
      "π = [0.35211268 0.21126761 0.43661972]\n"
     ]
    }
   ],
   "source": [
    "#Approach 2: Repeated Matrix Multiplication\n",
    "steps = 10**3\n",
    "A_n = A\n",
    "i=0\n",
    "while i<steps:\n",
    "    A_n =np.matmul(A_n,A)\n",
    "    i+=1\n",
    "print(\"A^n = \\n\",A_n,\"\\n\")\n",
    "print(\"π =\",A_n[0])"
   ]
  },
  {
   "cell_type": "code",
   "execution_count": 9,
   "metadata": {},
   "outputs": [
    {
     "name": "stdout",
     "output_type": "stream",
     "text": [
      "left eigen vectos = \n",
      " [[-0.58746336+0.j         -0.16984156-0.35355339j -0.16984156+0.35355339j]\n",
      " [-0.35247801+0.j          0.67936622+0.j          0.67936622-0.j        ]\n",
      " [-0.72845456+0.j         -0.50952467+0.35355339j -0.50952467-0.35355339j]] \n",
      "\n",
      "eigen values = \n",
      " [ 1.  +0.j        -0.15+0.3122499j -0.15-0.3122499j]\n"
     ]
    }
   ],
   "source": [
    "#Approach 3 : Finding Left Eigen Vectors\n",
    "import scipy.linalg\n",
    "values,left = scipy.linalg.eig(A,right=False,left=True)\n",
    "print(\"left eigen vectos = \\n\",left,\"\\n\")\n",
    "print(\"eigen values = \\n\",values)"
   ]
  },
  {
   "cell_type": "code",
   "execution_count": 11,
   "metadata": {},
   "outputs": [
    {
     "data": {
      "text/plain": [
       "[0.3521126760563379, 0.21126760563380298, 0.43661971830985913]"
      ]
     },
     "execution_count": 11,
     "metadata": {},
     "output_type": "execute_result"
    }
   ],
   "source": [
    "pi =left[:,0]\n",
    "pi_normalized = [(x/np.sum(pi)).real for x in pi]\n",
    "pi_normalized"
   ]
  },
  {
   "cell_type": "code",
   "execution_count": 14,
   "metadata": {},
   "outputs": [
    {
     "name": "stdout",
     "output_type": "stream",
     "text": [
      "0.03697183098591552\n"
     ]
    }
   ],
   "source": [
    "def find_prob(seq,A,pi):\n",
    "    strat_state = seq[0]\n",
    "    prob = pi[strat_state]\n",
    "    prev_state = strat_state\n",
    "    for i in range(1,len(seq)):\n",
    "        curr_state=seq[i]\n",
    "        prob *= A[prev_state][curr_state]\n",
    "        prev_state = curr_state\n",
    "    return prob\n",
    "\n",
    "print(find_prob([1,2,2,0],A,pi_normalized))"
   ]
  }
 ],
 "metadata": {
  "kernelspec": {
   "display_name": "Python 3",
   "language": "python",
   "name": "python3"
  },
  "language_info": {
   "codemirror_mode": {
    "name": "ipython",
    "version": 3
   },
   "file_extension": ".py",
   "mimetype": "text/x-python",
   "name": "python",
   "nbconvert_exporter": "python",
   "pygments_lexer": "ipython3",
   "version": "3.11.0"
  }
 },
 "nbformat": 4,
 "nbformat_minor": 2
}
